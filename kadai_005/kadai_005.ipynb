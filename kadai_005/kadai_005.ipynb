{
  "nbformat": 4,
  "nbformat_minor": 0,
  "metadata": {
    "colab": {
      "provenance": []
    },
    "kernelspec": {
      "name": "python3",
      "display_name": "Python 3"
    },
    "language_info": {
      "name": "python"
    }
  },
  "cells": [
    {
      "cell_type": "code",
      "execution_count": 1,
      "metadata": {
        "id": "EK9Nmlw27l2t",
        "colab": {
          "base_uri": "https://localhost:8080/"
        },
        "outputId": "dd3e537f-3e26-4ea3-8748-195f68ff303a"
      },
      "outputs": [
        {
          "output_type": "stream",
          "name": "stdout",
          "text": [
            "95.0cm²\n"
          ]
        }
      ],
      "source": [
        "upper_length = 18  # \"cm\"\n",
        "under_length = 20  # \"cm\"\n",
        "height = 5  # \"cm\"\n",
        "\n",
        "#  台形の面積（area）を求める\n",
        "area = (upper_length + under_length) * height / 2\n",
        "\n",
        "#  台形の面積を記載\n",
        "print(str(area) + \"cm²\")\n"
      ]
    }
  ]
}