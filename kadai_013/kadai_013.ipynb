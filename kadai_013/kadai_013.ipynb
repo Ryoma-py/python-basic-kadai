{
  "nbformat": 4,
  "nbformat_minor": 0,
  "metadata": {
    "colab": {
      "provenance": []
    },
    "kernelspec": {
      "name": "python3",
      "display_name": "Python 3"
    },
    "language_info": {
      "name": "python"
    }
  },
  "cells": [
    {
      "cell_type": "code",
      "execution_count": null,
      "metadata": {
        "id": "vCIjufzaigKD"
      },
      "outputs": [],
      "source": [
        "price = 110\n",
        "tax = 10\n",
        "\n",
        "def total_amount():\n",
        "    print(price * (100 + tax) / 100)\n",
        "\n",
        "total_amount()"
      ]
    }
  ]
}