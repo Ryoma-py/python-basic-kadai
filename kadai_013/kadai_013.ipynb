{
  "cells": [
    {
      "cell_type": "code",
      "execution_count": null,
      "metadata": {
        "id": "vCIjufzaigKD"
      },
      "outputs": [],
      "source": [
        "def total_amount(price, tax):\n",
        "    return price * (100 + tax) / 100\n",
        "\n",
        "# 関数を呼び出し、戻り値を変数に代入して表示\n",
        "result = total_amount(110, 10)\n",
        "print(result)"
      ]
    }
  ],
  "metadata": {
    "colab": {
      "provenance": []
    },
    "kernelspec": {
      "display_name": "Python 3",
      "name": "python3"
    },
    "language_info": {
      "name": "python"
    }
  },
  "nbformat": 4,
  "nbformat_minor": 0
}
