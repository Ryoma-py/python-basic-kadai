{
  "nbformat": 4,
  "nbformat_minor": 0,
  "metadata": {
    "colab": {
      "provenance": []
    },
    "kernelspec": {
      "name": "python3",
      "display_name": "Python 3"
    },
    "language_info": {
      "name": "python"
    }
  },
  "cells": [
    {
      "cell_type": "code",
      "execution_count": null,
      "metadata": {
        "id": "P9be_VMFvT95"
      },
      "outputs": [],
      "source": [
        "class Human:\n",
        "    def __init__(self, name, age):\n",
        "        self.name = name\n",
        "        self.age = age\n",
        "\n",
        "    def check_adult(self):\n",
        "        if self.age >= 20:\n",
        "            print(f\"{self.name}は大人です\")\n",
        "        else:\n",
        "            print(f\"{self.name}は子供なので寝る時間です\")\n",
        "\n",
        "\n",
        "# インスタンスを複数作成\n",
        "taro = Human(\"侍太郎\", 20)\n",
        "jiro = Human(\"侍次郎\", 19)\n",
        "papa = Human(\"侍パパ\", 50)\n",
        "mama = Human(\"侍ママ\", 48)\n",
        "chibi = Human(\"侍チビ\", 5)\n",
        "pochi = Human(\"ポチ\", 6)\n",
        "tama = Human(\"タマ\", 6)\n",
        "\n",
        "taro.check_adult()\n",
        "jiro.check_adult()\n",
        "papa.check_adult()\n",
        "mama.check_adult()\n",
        "chibi.check_adult()\n",
        "pochi.check_adult()\n",
        "tama.check_adult()\n"
      ]
    }
  ]
}