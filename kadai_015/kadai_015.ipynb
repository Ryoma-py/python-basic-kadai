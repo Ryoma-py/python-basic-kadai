{
  "nbformat": 4,
  "nbformat_minor": 0,
  "metadata": {
    "colab": {
      "provenance": []
    },
    "kernelspec": {
      "name": "python3",
      "display_name": "Python 3"
    },
    "language_info": {
      "name": "python"
    }
  },
  "cells": [
    {
      "cell_type": "code",
      "execution_count": null,
      "metadata": {
        "id": "eSx-jhM0vZVk"
      },
      "outputs": [],
      "source": [
        "class Human:\n",
        "    # コンストラクタを定義\n",
        "    def __init__(self, name, age):\n",
        "        self.name = name\n",
        "        self.age = age\n",
        "\n",
        "    def printinfo(self):\n",
        "        print(f\"私の名前は{self.name}です。年齢は{self.age}です。\")\n",
        "\n",
        "\n",
        "# インスタンス化する\n",
        "human = Human(\"侍太郎\", 36)\n",
        "\n",
        "human.printinfo()"
      ]
    }
  ]
}