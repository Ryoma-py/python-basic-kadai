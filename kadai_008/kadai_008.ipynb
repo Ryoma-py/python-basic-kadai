{
  "nbformat": 4,
  "nbformat_minor": 0,
  "metadata": {
    "colab": {
      "provenance": []
    },
    "kernelspec": {
      "name": "python3",
      "display_name": "Python 3"
    },
    "language_info": {
      "name": "python"
    }
  },
  "cells": [
    {
      "cell_type": "code",
      "execution_count": null,
      "metadata": {
        "id": "W1oftMpbJkzd"
      },
      "outputs": [],
      "source": [
        "# 変数varを指定\n",
        "var = 4\n",
        "\n",
        "# 15の倍数は「FizzBuzz」を出力\n",
        "if var % 15 == 0:\n",
        "    print(\"FizzBuzz\")\n",
        "# 5の倍数は「Buzz」を出力\n",
        "elif var % 5 == 0:\n",
        "    print(\"Buzz\")\n",
        "# 3の倍数は「Fizz」を出力\n",
        "elif var % 3 == 0:\n",
        "    print(\"Fizz\")\n",
        "# どれにも該当しない場合は変数varの値を出力\n",
        "else:\n",
        "    print(var)"
      ]
    }
  ]
}